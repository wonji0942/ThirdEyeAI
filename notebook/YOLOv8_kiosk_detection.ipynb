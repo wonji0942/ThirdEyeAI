{
  "nbformat": 4,
  "nbformat_minor": 0,
  "metadata": {
    "colab": {
      "provenance": []
    },
    "kernelspec": {
      "name": "python3",
      "display_name": "Python 3"
    },
    "language_info": {
      "name": "python"
    }
  },
  "cells": [
    {
      "cell_type": "markdown",
      "source": [
        "# 환경 세팅 및 데이터셋 업로드"
      ],
      "metadata": {
        "id": "erbhPeSOgcfn"
      }
    },
    {
      "cell_type": "code",
      "execution_count": null,
      "metadata": {
        "collapsed": true,
        "id": "_aFN4zzKSq1f"
      },
      "outputs": [],
      "source": [
        "#코랩 환경 준비 및 ultralytics 설치\n",
        "!pip install ultralytics roboflow"
      ]
    },
    {
      "cell_type": "code",
      "source": [
        "# 로보플로에서 api 활용한 데이터셋 다운로드(YOLOv8 포맷)\n",
        "from roboflow import Roboflow\n",
        "\n",
        "rf = Roboflow(api_key=\"bGEamJdSzr5rBrg9Sjne\")\n",
        "project = rf.workspace(\"kiosk-nmotv\").project(\"osp-bao99\")\n",
        "version = project.version(4)\n",
        "dataset = version.download(\"yolov8\")"
      ],
      "metadata": {
        "id": "TWtyQNlWSsM-"
      },
      "execution_count": null,
      "outputs": []
    },
    {
      "cell_type": "markdown",
      "source": [
        "# YOLOv8 모델 학습시키기"
      ],
      "metadata": {
        "id": "7FBWhkE2gYVP"
      }
    },
    {
      "cell_type": "code",
      "source": [
        "# -------yolov8 학습 코드--------\n",
        "from ultralytics import YOLO\n",
        "# 하이퍼파라미터를 변수로 저장 (이걸로 다른 셀에서도 접근 가능!)\n",
        "epochs = 150\n",
        "batch = 32                 # 배치 크기 (GPU 메모리에 따라 조절)\n",
        "\n",
        "# 데이터셋 yaml 경로 확인 (Roboflow에서 다운로드된 경로)\n",
        "data_yaml = dataset.location + \"/data.yaml\"\n",
        "\n",
        "# 원하는 모델 선택 (yolov8n.pt, yolov8s.pt, yolov8m.pt, yolov8l.pt, yolov8x.pt)\n",
        "model = YOLO('yolov8s.pt') # 해보고 과적합되면 yolov8n.pt로 시도해보기\n",
        "\n",
        "# 학습 시작\n",
        "results = model.train(\n",
        "    data=data_yaml,     # 데이터셋 yaml 파일 경로\n",
        "    epochs=epochs,\n",
        "    batch=batch,\n",
        "    imgsz=640,          # 입력 이미지 크기\n",
        "    name='yolov8s_custom', # 결과 저장 폴더명\n",
        "    exist_ok=True,\n",
        "\n",
        "    # 아이스크림 UI 다양성을 위한 증강\n",
        "    # hsv_h=0.1,      # 색상 변화 (UI 색상 다양화)\n",
        "    # hsv_s=0.8,      # 채도 변화\n",
        "    # hsv_v=0.5,      # 밝기 변화 (화면 밝기)\n",
        "    # scale=0.8,      # 크기 변화\n",
        "    # translate=0.3,  # 위치 변화\n",
        "    # fliplr=0.5,     # 좌우 반전\n",
        "    # mosaic=1.0,     # 모자이크 (매우 효과적)\n",
        "    # mixup=0.3,      # 믹스업\n",
        "    # erasing=0.2,    # 일부 영역 지우기\n",
        ")\n",
        "\n",
        "val_results = model.val(\n",
        "    data = data_yaml,\n",
        "    split = 'test',\n",
        "    plots = True,\n",
        "    save_json = True,\n",
        "    exist_ok=True\n",
        ")"
      ],
      "metadata": {
        "id": "161G_ZWXUf0P",
        "collapsed": true
      },
      "execution_count": null,
      "outputs": []
    },
    {
      "cell_type": "markdown",
      "source": [
        "# 추론 테스트 코드"
      ],
      "metadata": {
        "id": "ciBA_BhfWpsV"
      }
    },
    {
      "cell_type": "code",
      "source": [
        "# 학습된 모델 로드\n",
        "model = YOLO('/content/runs/detect/yolov8s_custom/weights/best.pt')\n",
        "\n",
        "# 이미지 추론\n",
        "import glob\n",
        "\n",
        "# test 이미지 폴더 경로\n",
        "test_img_dir = '/content/OSP-4/test/images/'\n",
        "\n",
        "# 모든 이미지 파일 리스트 얻기 (jpg, png 등)\n",
        "img_list = glob.glob(test_img_dir + '*.*')\n",
        "\n",
        "for img_path in img_list:\n",
        "    results = model(img_path)\n",
        "    results[0].show()  # 바운딩박스, 클래스명 표시"
      ],
      "metadata": {
        "id": "2bo0356WWpIy",
        "collapsed": true
      },
      "execution_count": null,
      "outputs": []
    },
    {
      "cell_type": "markdown",
      "source": [
        "# **학습 성능 시각화 코드**"
      ],
      "metadata": {
        "id": "cc5p3fnVbYDS"
      }
    },
    {
      "cell_type": "markdown",
      "source": [
        "가장 최근에 학습된 모델의 results.csv(학습결과) 자동으로 불러옴"
      ],
      "metadata": {
        "id": "ZYPAemnGl4e8"
      }
    },
    {
      "cell_type": "code",
      "source": [
        "import os\n",
        "import glob\n",
        "import pandas as pd\n",
        "\n",
        "# 1. yolov8s_custom* 폴더 중 최신 폴더 찾기\n",
        "base_dir = 'runs/detect'\n",
        "pattern = os.path.join(base_dir, 'yolov8s_custom*')\n",
        "folders = glob.glob(pattern)\n",
        "\n",
        "if not folders:\n",
        "    raise FileNotFoundError(\"No yolov8s_custom* folders found in runs/detect/\")\n",
        "else:\n",
        "    # 수정: 폴더 생성(수정) 시간 기준으로 최신 폴더 선택\n",
        "    folders.sort(key=lambda x: os.path.getmtime(x))\n",
        "    latest_folder = folders[-1]\n",
        "\n",
        "# 2. 최신 폴더의 results.csv 경로\n",
        "results_csv_path = os.path.join(latest_folder, 'results.csv')\n",
        "if not os.path.exists(results_csv_path):\n",
        "    raise FileNotFoundError(f\"results.csv not found in {latest_folder}\")"
      ],
      "metadata": {
        "id": "JSDf1r7Llv9q"
      },
      "execution_count": null,
      "outputs": []
    },
    {
      "cell_type": "markdown",
      "source": [
        "Box Loss 그래프: 학습/검증 박스 손실 추이\n",
        "\n",
        "Precision-Recall 그래프: 정밀도와 재현율 변화\n",
        "  (재현율 : 실제 정답 객체 중 모델이 정답으로 검출한 객체 수 -> 그냥 정확도로 생각해도 될듯)\n",
        "\n",
        "mAP 그래프: 0.5 IoU, 0.5-0.95 IoU 기준 mAP 변화\n",
        "  (정확도,재현율의 관계 평가 -> mAP값이 높으면 객체 탐지율이 높은 것)"
      ],
      "metadata": {
        "id": "uKbZfESKfFbv"
      }
    },
    {
      "cell_type": "code",
      "source": [
        "import pandas as pd\n",
        "import matplotlib.pyplot as plt\n",
        "\n",
        "df = pd.read_csv(results_csv_path) # 위에서 구한 결과 csv 파일 경로 불러옴\n",
        "\n",
        "plt.figure(figsize=(10, 10))\n",
        "\n",
        "# 1. Train/Val Box Loss\n",
        "plt.subplot(3, 1, 1)\n",
        "plt.plot(df['epoch'], df['train/box_loss'], label='Train Box Loss', marker='o')\n",
        "plt.plot(df['epoch'], df['val/box_loss'], label='Val Box Loss', marker='o')\n",
        "plt.title('Train and Validation Box Loss')\n",
        "plt.xlabel('Epoch')\n",
        "plt.ylabel('Loss')\n",
        "plt.legend()\n",
        "\n",
        "# 2. Precision and Recall (0~100%)\n",
        "plt.subplot(3, 1, 2)\n",
        "plt.plot(df['epoch'], df['metrics/precision(B)']*100, label='Precision (%)', marker='o')\n",
        "plt.plot(df['epoch'], df['metrics/recall(B)']*100, label='Recall (%)', marker='o')\n",
        "plt.title('Precision and Recall')\n",
        "plt.xlabel('Epoch')\n",
        "plt.ylabel('Percentage (%)')\n",
        "plt.ylim(0, 100)  # y축을 0~100으로 고정\n",
        "plt.legend()\n",
        "\n",
        "# 3. mAP@0.5 and mAP@0.5:0.95 (0~100%)\n",
        "plt.subplot(3, 1, 3)\n",
        "plt.plot(df['epoch'], df['metrics/mAP50(B)']*100, label='mAP@0.5 (%)', marker='o')\n",
        "plt.plot(df['epoch'], df['metrics/mAP50-95(B)']*100, label='mAP@0.5:0.95 (%)', marker='o')\n",
        "plt.title('Mean Average Precision (mAP)')\n",
        "plt.xlabel('Epoch')\n",
        "plt.ylabel('Percentage (%)')\n",
        "plt.ylim(0, 100)  # y축을 0~100으로 고정\n",
        "plt.legend()\n",
        "\n",
        "plt.tight_layout()\n",
        "plt.show()\n"
      ],
      "metadata": {
        "id": "sCglZ5TugJ8p"
      },
      "execution_count": null,
      "outputs": []
    },
    {
      "cell_type": "markdown",
      "source": [
        "모델 성능 수치화해서 출력\n",
        "-> 이거를 깃헙에 올릴 때 커밋 메시지에 포함해 주세요!\n",
        "예) 모델 성능 : Epoch 150, batch 16 => mAP@0.5=82.1%, mAP@0.5:0.95=63.4%, Precision=87.2%, Recall=71.5%"
      ],
      "metadata": {
        "id": "CA1Y7uTuXkVv"
      }
    },
    {
      "cell_type": "code",
      "source": [
        "from ultralytics import YOLO\n",
        "\n",
        "# 학습된 모델 로드\n",
        "model = YOLO('runs/detect/yolov8s_custom/weights/best.pt')\n",
        "\n",
        "# test셋에서 평가\n",
        "metrics = val_results\n",
        "\n",
        "# 주요 성능 지표 명시적으로 출력\n",
        "print(f\"mAP@0.5: {metrics.box.map50*100:.2f}%\")\n",
        "print(f\"mAP@0.5:0.95: {metrics.box.map*100:.2f}%\")\n",
        "print(f\"Precision: {metrics.box.mp*100:.2f}%\")\n",
        "print(f\"Recall: {metrics.box.mr*100:.2f}%\")\n"
      ],
      "metadata": {
        "id": "B57IhecVWYJ5"
      },
      "execution_count": null,
      "outputs": []
    },
    {
      "cell_type": "markdown",
      "source": [
        "# 학습 결과 내 드라이브에 자동 저장\n",
        "best.pt 파일과, 에폭, batch값, 성능 지표4가지값 모두 자동 저장되도록 함."
      ],
      "metadata": {
        "id": "-DB7boe8zFky"
      }
    },
    {
      "cell_type": "code",
      "source": [
        "from google.colab import drive\n",
        "drive.mount('/content/drive')"
      ],
      "metadata": {
        "id": "NGn6YySVA1sT"
      },
      "execution_count": null,
      "outputs": []
    },
    {
      "cell_type": "code",
      "source": [
        "from ultralytics import YOLO\n",
        "import os\n",
        "\n",
        "# 드라이브 내 저장 경로\n",
        "save_base = '/content/drive/MyDrive/OSS_yolo_weights'\n",
        "save_dir = os.path.join(save_base, f'ep{epochs}_batch{batch}')\n",
        "os.makedirs(save_dir, exist_ok=True)\n",
        "\n",
        "# best.pt, data.yaml 경로\n",
        "best_pt_path = 'runs/detect/yolov8s_custom/weights/best.pt'\n",
        "data_yaml_path = 'runs/detect/yolov8s_custom/data.yaml'\n",
        "\n",
        "# 모델 로드 및 평가\n",
        "model = YOLO(best_pt_path)\n",
        "\n",
        "# 성능지표 텍스트 생성 (자동 추출)\n",
        "performance_text = f\"\"\"mAP@0.5: {metrics.box.map50*100:.2f}%\n",
        "mAP@0.5:0.95: {metrics.box.map*100:.2f}%\n",
        "Precision: {metrics.box.mp*100:.2f}%\n",
        "Recall: {metrics.box.mr*100:.2f}%\n",
        "Epoch: {epochs}\n",
        "Batch size: {batch}\n",
        "\"\"\"\n",
        "\n",
        "# best.pt 복사\n",
        "import shutil\n",
        "shutil.copy(best_pt_path, os.path.join(save_dir, 'best.pt'))\n",
        "\n",
        "# 성능지표 txt 저장\n",
        "metrics_save_path = os.path.join(save_dir, 'performance.txt')\n",
        "with open(metrics_save_path, 'w') as f:\n",
        "    f.write(performance_text)\n",
        "\n",
        "print(f\"best.pt와 성능지표가 {save_dir}에 저장되었습니다.\")\n"
      ],
      "metadata": {
        "id": "vRFUzwLi5ACz"
      },
      "execution_count": null,
      "outputs": []
    }
  ]
}